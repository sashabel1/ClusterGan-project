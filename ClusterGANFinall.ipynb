{
  "nbformat": 4,
  "nbformat_minor": 0,
  "metadata": {
    "colab": {
      "provenance": [],
      "authorship_tag": "ABX9TyPmhqAKB0WKufVAnYSnpRlL",
      "include_colab_link": true
    },
    "kernelspec": {
      "name": "python3",
      "display_name": "Python 3"
    },
    "language_info": {
      "name": "python"
    }
  },
  "cells": [
    {
      "cell_type": "markdown",
      "metadata": {
        "id": "view-in-github",
        "colab_type": "text"
      },
      "source": [
        "<a href=\"https://colab.research.google.com/github/sashabel1/ClusterGan-project/blob/main/ClusterGANFinall.ipynb\" target=\"_parent\"><img src=\"https://colab.research.google.com/assets/colab-badge.svg\" alt=\"Open In Colab\"/></a>"
      ]
    },
    {
      "cell_type": "code",
      "execution_count": 2,
      "metadata": {
        "colab": {
          "base_uri": "https://localhost:8080/"
        },
        "id": "vKl7fJjnCaGF",
        "outputId": "9c3c682a-f28b-4e55-f412-7a492e467598"
      },
      "outputs": [
        {
          "output_type": "stream",
          "name": "stdout",
          "text": [
            "Cloning into 'MindSpore-GAN'...\n",
            "remote: Enumerating objects: 153, done.\u001b[K\n",
            "remote: Counting objects: 100% (153/153), done.\u001b[K\n",
            "remote: Compressing objects: 100% (103/103), done.\u001b[K\n",
            "remote: Total 153 (delta 74), reused 119 (delta 42), pack-reused 0 (from 0)\u001b[K\n",
            "Receiving objects: 100% (153/153), 1.52 MiB | 21.92 MiB/s, done.\n",
            "Resolving deltas: 100% (74/74), done.\n",
            "/content/MindSpore-GAN\n",
            "Requirement already satisfied: tqdm in /usr/local/lib/python3.11/dist-packages (from -r requirements.txt (line 1)) (4.67.1)\n",
            "Requirement already satisfied: pillow in /usr/local/lib/python3.11/dist-packages (from -r requirements.txt (line 2)) (11.2.1)\n",
            "--2025-05-13 14:36:44--  http://yann.lecun.com/exdb/mnist/train-images-idx3-ubyte.gz\n",
            "Resolving yann.lecun.com (yann.lecun.com)... 15.204.224.156\n",
            "Connecting to yann.lecun.com (yann.lecun.com)|15.204.224.156|:80... connected.\n",
            "HTTP request sent, awaiting response... 404 Not Found\n",
            "2025-05-13 14:36:44 ERROR 404: Not Found.\n",
            "\n",
            "--2025-05-13 14:36:44--  http://yann.lecun.com/exdb/mnist/train-labels-idx1-ubyte.gz\n",
            "Resolving yann.lecun.com (yann.lecun.com)... 15.204.224.156\n",
            "Connecting to yann.lecun.com (yann.lecun.com)|15.204.224.156|:80... connected.\n",
            "HTTP request sent, awaiting response... 404 Not Found\n",
            "2025-05-13 14:36:44 ERROR 404: Not Found.\n",
            "\n",
            "--2025-05-13 14:36:44--  http://yann.lecun.com/exdb/mnist/t10k-images-idx3-ubyte.gz\n",
            "Resolving yann.lecun.com (yann.lecun.com)... 15.204.224.156\n",
            "Connecting to yann.lecun.com (yann.lecun.com)|15.204.224.156|:80... connected.\n",
            "HTTP request sent, awaiting response... 404 Not Found\n",
            "2025-05-13 14:36:44 ERROR 404: Not Found.\n",
            "\n",
            "--2025-05-13 14:36:44--  http://yann.lecun.com/exdb/mnist/t10k-labels-idx1-ubyte.gz\n",
            "Resolving yann.lecun.com (yann.lecun.com)... 15.204.224.156\n",
            "Connecting to yann.lecun.com (yann.lecun.com)|15.204.224.156|:80... connected.\n",
            "HTTP request sent, awaiting response... 404 Not Found\n",
            "2025-05-13 14:36:44 ERROR 404: Not Found.\n",
            "\n",
            "gzip: train-images-idx3-ubyte.gz: No such file or directory\n",
            "gzip: train-labels-idx1-ubyte.gz: No such file or directory\n",
            "gzip: t10k-images-idx3-ubyte.gz: No such file or directory\n",
            "gzip: t10k-labels-idx1-ubyte.gz: No such file or directory\n",
            "/content/MindSpore-GAN/src/clustergan\n",
            "Collecting mindspore\n",
            "  Downloading mindspore-2.5.0-cp311-cp311-manylinux1_x86_64.whl.metadata (18 kB)\n",
            "Collecting numpy<2.0.0,>=1.20.0 (from mindspore)\n",
            "  Downloading numpy-1.26.4-cp311-cp311-manylinux_2_17_x86_64.manylinux2014_x86_64.whl.metadata (61 kB)\n",
            "\u001b[2K     \u001b[90m━━━━━━━━━━━━━━━━━━━━━━━━━━━━━━━━━━━━━━━━\u001b[0m \u001b[32m61.0/61.0 kB\u001b[0m \u001b[31m4.4 MB/s\u001b[0m eta \u001b[36m0:00:00\u001b[0m\n",
            "\u001b[?25hRequirement already satisfied: protobuf>=3.13.0 in /usr/local/lib/python3.11/dist-packages (from mindspore) (5.29.4)\n",
            "Collecting asttokens>=2.0.4 (from mindspore)\n",
            "  Downloading asttokens-3.0.0-py3-none-any.whl.metadata (4.7 kB)\n",
            "Requirement already satisfied: pillow>=6.2.0 in /usr/local/lib/python3.11/dist-packages (from mindspore) (11.2.1)\n",
            "Requirement already satisfied: scipy>=1.5.4 in /usr/local/lib/python3.11/dist-packages (from mindspore) (1.15.2)\n",
            "Requirement already satisfied: packaging>=20.0 in /usr/local/lib/python3.11/dist-packages (from mindspore) (24.2)\n",
            "Requirement already satisfied: psutil>=5.6.1 in /usr/local/lib/python3.11/dist-packages (from mindspore) (5.9.5)\n",
            "Requirement already satisfied: astunparse>=1.6.3 in /usr/local/lib/python3.11/dist-packages (from mindspore) (1.6.3)\n",
            "Requirement already satisfied: safetensors>=0.4.0 in /usr/local/lib/python3.11/dist-packages (from mindspore) (0.5.3)\n",
            "Requirement already satisfied: dill>=0.3.7 in /usr/local/lib/python3.11/dist-packages (from mindspore) (0.3.7)\n",
            "Requirement already satisfied: wheel<1.0,>=0.23.0 in /usr/local/lib/python3.11/dist-packages (from astunparse>=1.6.3->mindspore) (0.45.1)\n",
            "Requirement already satisfied: six<2.0,>=1.6.1 in /usr/local/lib/python3.11/dist-packages (from astunparse>=1.6.3->mindspore) (1.17.0)\n",
            "Downloading mindspore-2.5.0-cp311-cp311-manylinux1_x86_64.whl (962.0 MB)\n",
            "\u001b[2K   \u001b[90m━━━━━━━━━━━━━━━━━━━━━━━━━━━━━━━━━━━━━━━━\u001b[0m \u001b[32m962.0/962.0 MB\u001b[0m \u001b[31m1.4 MB/s\u001b[0m eta \u001b[36m0:00:00\u001b[0m\n",
            "\u001b[?25hDownloading asttokens-3.0.0-py3-none-any.whl (26 kB)\n",
            "Downloading numpy-1.26.4-cp311-cp311-manylinux_2_17_x86_64.manylinux2014_x86_64.whl (18.3 MB)\n",
            "\u001b[2K   \u001b[90m━━━━━━━━━━━━━━━━━━━━━━━━━━━━━━━━━━━━━━━━\u001b[0m \u001b[32m18.3/18.3 MB\u001b[0m \u001b[31m65.5 MB/s\u001b[0m eta \u001b[36m0:00:00\u001b[0m\n",
            "\u001b[?25hInstalling collected packages: numpy, asttokens, mindspore\n",
            "  Attempting uninstall: numpy\n",
            "    Found existing installation: numpy 2.0.2\n",
            "    Uninstalling numpy-2.0.2:\n",
            "      Successfully uninstalled numpy-2.0.2\n",
            "\u001b[31mERROR: pip's dependency resolver does not currently take into account all the packages that are installed. This behaviour is the source of the following dependency conflicts.\n",
            "thinc 8.3.6 requires numpy<3.0.0,>=2.0.0, but you have numpy 1.26.4 which is incompatible.\u001b[0m\u001b[31m\n",
            "\u001b[0mSuccessfully installed asttokens-3.0.0 mindspore-2.5.0 numpy-1.26.4\n"
          ]
        }
      ],
      "source": [
        "!git clone https://github.com/lvyufeng/MindSpore-GAN\n",
        "%cd MindSpore-GAN/\n",
        "!pip install -r requirements.txt\n",
        "!bash scripts/download_mnist.sh\n",
        "%cd src/clustergan/\n",
        "!pip install mindspore"
      ]
    },
    {
      "cell_type": "code",
      "source": [
        "!python3 clustergan.py"
      ],
      "metadata": {
        "colab": {
          "base_uri": "https://localhost:8080/"
        },
        "id": "21OZXHspCy_A",
        "outputId": "d5b557ae-af18-4e57-9300-6f8fea0a8af4"
      },
      "execution_count": 4,
      "outputs": [
        {
          "output_type": "stream",
          "name": "stdout",
          "text": [
            "[WARNING] ME(1609:138903176945664,MainProcess):2025-05-13-14:41:08.637.000 [mindspore/common/api.py:1109] 'mindspore.ms_function' will be deprecated and removed in a future version. Please use 'mindspore.jit' instead.\n",
            "[WARNING] ME(1609:138903176945664,MainProcess):2025-05-13-14:41:08.637.000 [mindspore/common/api.py:1109] 'mindspore.ms_function' will be deprecated and removed in a future version. Please use 'mindspore.jit' instead.\n",
            "[WARNING] ME(1609:138903176945664,MainProcess):2025-05-13-14:41:08.637.000 [mindspore/dataset/core/validator_helpers.py:744] 'Rescale' from mindspore.dataset.vision.c_transforms is deprecated from version 1.8 and will be removed in a future version. Use 'Rescale' from mindspore.dataset.vision instead.\n",
            "[WARNING] ME(1609:138903176945664,MainProcess):2025-05-13-14:41:08.637.000 [mindspore/dataset/core/validator_helpers.py:744] 'Resize' from mindspore.dataset.vision.c_transforms is deprecated from version 1.8 and will be removed in a future version. Use 'Resize' from mindspore.dataset.vision instead.\n",
            "[WARNING] ME(1609:138903176945664,MainProcess):2025-05-13-14:41:08.638.000 [mindspore/dataset/core/validator_helpers.py:744] 'Normalize' from mindspore.dataset.vision.c_transforms is deprecated from version 1.8 and will be removed in a future version. Use 'Normalize' from mindspore.dataset.vision instead.\n",
            "[WARNING] ME(1609:138903176945664,MainProcess):2025-05-13-14:41:08.638.000 [mindspore/dataset/core/validator_helpers.py:744] 'HWC2CHW' from mindspore.dataset.vision.c_transforms is deprecated from version 1.8 and will be removed in a future version. Use 'HWC2CHW' from mindspore.dataset.vision instead.\n",
            "[WARNING] ME(1609:138903176945664,MainProcess):2025-05-13-14:41:08.638.000 [mindspore/dataset/core/validator_helpers.py:744] 'Rescale' from mindspore.dataset.vision.c_transforms is deprecated from version 1.8 and will be removed in a future version. Use 'Rescale' from mindspore.dataset.vision instead.\n",
            "[WARNING] ME(1609:138903176945664,MainProcess):2025-05-13-14:41:08.639.000 [mindspore/dataset/core/validator_helpers.py:744] 'Resize' from mindspore.dataset.vision.c_transforms is deprecated from version 1.8 and will be removed in a future version. Use 'Resize' from mindspore.dataset.vision instead.\n",
            "[WARNING] ME(1609:138903176945664,MainProcess):2025-05-13-14:41:08.639.000 [mindspore/dataset/core/validator_helpers.py:744] 'Normalize' from mindspore.dataset.vision.c_transforms is deprecated from version 1.8 and will be removed in a future version. Use 'Normalize' from mindspore.dataset.vision instead.\n",
            "[WARNING] ME(1609:138903176945664,MainProcess):2025-05-13-14:41:08.639.000 [mindspore/dataset/core/validator_helpers.py:744] 'HWC2CHW' from mindspore.dataset.vision.c_transforms is deprecated from version 1.8 and will be removed in a future version. Use 'HWC2CHW' from mindspore.dataset.vision instead.\n",
            "\r  0% 0/938 [00:00<?, ?it/s]\rEpoch 0:   0% 0/938 [00:00<?, ?it/s][WARNING] ANALYZER(1609,7e54ea852000,python3):2025-05-13-14:41:11.779.852 [mindspore/ccsrc/pipeline/jit/ps/static_analysis/auto_monad.cc:1561] ClearIsolatedNodes] Some side effect nodes were eliminated by mistake. The node is:@8_generator_forward_46:enc_gen_zc{[0]: ValueNode<FuncGraph> 35__tuple_getitem_by_number_47, [1]: CNode_48, [2]: ValueNode<Int64Imm> 1}\n",
            "[WARNING] RUNTIME_FRAMEWORK(1609,7e54ea852000,python3):2025-05-13-14:41:16.604.304 [mindspore/ccsrc/runtime/pipeline/async_rqueue.cc:69] operator()] Process 1609 receive KeyboardInterrupt signal.\n",
            "^C\n"
          ]
        }
      ]
    }
  ]
}